{
 "cells": [
  {
   "cell_type": "code",
   "execution_count": 138,
   "id": "7ad21680",
   "metadata": {},
   "outputs": [],
   "source": [
    "import pandas as pd\n",
    "# To view all rows and columns while displaying as df\n",
    "pd.set_option('display.max_rows', 500)\n",
    "pd.set_option('display.max_columns', 500)\n",
    "pd.set_option('display.width', 1000)"
   ]
  },
  {
   "cell_type": "code",
   "execution_count": 139,
   "id": "09324136",
   "metadata": {},
   "outputs": [
    {
     "data": {
      "text/plain": [
       "(1459, 26)"
      ]
     },
     "execution_count": 139,
     "metadata": {},
     "output_type": "execute_result"
    }
   ],
   "source": [
    "# Read in th FullRaw\n",
    "fullraw=pd.read_csv(\"PropertyPrice_Data.csv\")\n",
    "fullraw.head()\n",
    "fullraw.shape"
   ]
  },
  {
   "cell_type": "code",
   "execution_count": 140,
   "id": "619cd50c",
   "metadata": {},
   "outputs": [
    {
     "data": {
      "text/plain": [
       "Id                            0\n",
       "Road_Type                     0\n",
       "Property_Shape                0\n",
       "House_Type                    0\n",
       "House_Condition               0\n",
       "Construction_Year             0\n",
       "Remodel_Year                  0\n",
       "BsmtFinSF1                    0\n",
       "Total_Basement_Area           0\n",
       "Air_Conditioning              0\n",
       "First_Floor_Area              0\n",
       "Second_Floor_Area             0\n",
       "LowQualFinSF                  0\n",
       "Underground_Full_Bathroom     0\n",
       "Full_Bathroom_Above_Grade     0\n",
       "Bedroom_Above_Grade           0\n",
       "Kitchen_Quality               0\n",
       "Rooms_Above_Grade             0\n",
       "Fireplaces                    0\n",
       "Garage                       81\n",
       "Garage_Built_Year            81\n",
       "Garage_Area                   0\n",
       "Pool_Area                     0\n",
       "Miscellaneous_Value           0\n",
       "Year_Sold                     0\n",
       "Sale_Price                    0\n",
       "dtype: int64"
      ]
     },
     "execution_count": 140,
     "metadata": {},
     "output_type": "execute_result"
    }
   ],
   "source": [
    "# check for the null values\n",
    "fullraw.isna().sum()"
   ]
  },
  {
   "cell_type": "code",
   "execution_count": 141,
   "id": "5050cee2",
   "metadata": {},
   "outputs": [],
   "source": [
    "# Imputaing the null values in our dataframe"
   ]
  },
  {
   "cell_type": "code",
   "execution_count": 142,
   "id": "f3cb946c",
   "metadata": {},
   "outputs": [],
   "source": [
    "fullraw['Garage'].fillna(fullraw['Garage'].mode()[0],inplace=True)"
   ]
  },
  {
   "cell_type": "code",
   "execution_count": 143,
   "id": "d34f75de",
   "metadata": {},
   "outputs": [],
   "source": [
    "fullraw['Garage_Built_Year'].fillna(fullraw['Garage_Built_Year'].median(),inplace=True)"
   ]
  },
  {
   "cell_type": "code",
   "execution_count": 144,
   "id": "9824d0e8",
   "metadata": {},
   "outputs": [
    {
     "data": {
      "text/plain": [
       "Id                           0\n",
       "Road_Type                    0\n",
       "Property_Shape               0\n",
       "House_Type                   0\n",
       "House_Condition              0\n",
       "Construction_Year            0\n",
       "Remodel_Year                 0\n",
       "BsmtFinSF1                   0\n",
       "Total_Basement_Area          0\n",
       "Air_Conditioning             0\n",
       "First_Floor_Area             0\n",
       "Second_Floor_Area            0\n",
       "LowQualFinSF                 0\n",
       "Underground_Full_Bathroom    0\n",
       "Full_Bathroom_Above_Grade    0\n",
       "Bedroom_Above_Grade          0\n",
       "Kitchen_Quality              0\n",
       "Rooms_Above_Grade            0\n",
       "Fireplaces                   0\n",
       "Garage                       0\n",
       "Garage_Built_Year            0\n",
       "Garage_Area                  0\n",
       "Pool_Area                    0\n",
       "Miscellaneous_Value          0\n",
       "Year_Sold                    0\n",
       "Sale_Price                   0\n",
       "dtype: int64"
      ]
     },
     "execution_count": 144,
     "metadata": {},
     "output_type": "execute_result"
    }
   ],
   "source": [
    "fullraw.isna().sum()"
   ]
  },
  {
   "cell_type": "code",
   "execution_count": 145,
   "id": "e2543a3d",
   "metadata": {},
   "outputs": [
    {
     "data": {
      "text/plain": [
       "(1459, 25)"
      ]
     },
     "execution_count": 145,
     "metadata": {},
     "output_type": "execute_result"
    }
   ],
   "source": [
    "# droping the ID column as it has no signifiacance for machine\n",
    "fullraw.drop(['Id'],axis=1,inplace=True)\n",
    "fullraw.shape"
   ]
  },
  {
   "cell_type": "code",
   "execution_count": 146,
   "id": "000e342d",
   "metadata": {},
   "outputs": [
    {
     "data": {
      "text/html": [
       "<div>\n",
       "<style scoped>\n",
       "    .dataframe tbody tr th:only-of-type {\n",
       "        vertical-align: middle;\n",
       "    }\n",
       "\n",
       "    .dataframe tbody tr th {\n",
       "        vertical-align: top;\n",
       "    }\n",
       "\n",
       "    .dataframe thead th {\n",
       "        text-align: right;\n",
       "    }\n",
       "</style>\n",
       "<table border=\"1\" class=\"dataframe\">\n",
       "  <thead>\n",
       "    <tr style=\"text-align: right;\">\n",
       "      <th></th>\n",
       "      <th>House_Condition</th>\n",
       "      <th>Construction_Year</th>\n",
       "      <th>Remodel_Year</th>\n",
       "      <th>BsmtFinSF1</th>\n",
       "      <th>Total_Basement_Area</th>\n",
       "      <th>First_Floor_Area</th>\n",
       "      <th>Second_Floor_Area</th>\n",
       "      <th>LowQualFinSF</th>\n",
       "      <th>Underground_Full_Bathroom</th>\n",
       "      <th>Full_Bathroom_Above_Grade</th>\n",
       "      <th>Bedroom_Above_Grade</th>\n",
       "      <th>Rooms_Above_Grade</th>\n",
       "      <th>Fireplaces</th>\n",
       "      <th>Garage_Built_Year</th>\n",
       "      <th>Garage_Area</th>\n",
       "      <th>Pool_Area</th>\n",
       "      <th>Miscellaneous_Value</th>\n",
       "      <th>Year_Sold</th>\n",
       "      <th>Sale_Price</th>\n",
       "      <th>Road_Type_Gravel</th>\n",
       "      <th>Road_Type_Paved</th>\n",
       "      <th>Property_Shape_IR1</th>\n",
       "      <th>Property_Shape_IR2</th>\n",
       "      <th>Property_Shape_IR3</th>\n",
       "      <th>Property_Shape_Reg</th>\n",
       "      <th>House_Type_1Fam</th>\n",
       "      <th>House_Type_2fmCon</th>\n",
       "      <th>House_Type_Duplex</th>\n",
       "      <th>House_Type_Twnhs</th>\n",
       "      <th>House_Type_TwnhsE</th>\n",
       "      <th>Air_Conditioning_N</th>\n",
       "      <th>Air_Conditioning_Y</th>\n",
       "      <th>Kitchen_Quality_Ex</th>\n",
       "      <th>Kitchen_Quality_Fa</th>\n",
       "      <th>Kitchen_Quality_Gd</th>\n",
       "      <th>Kitchen_Quality_TA</th>\n",
       "      <th>Garage_2TFes</th>\n",
       "      <th>Garage_2Types</th>\n",
       "      <th>Garage_Attchd</th>\n",
       "      <th>Garage_Basment</th>\n",
       "      <th>Garage_BuiltIn</th>\n",
       "      <th>Garage_CarPort</th>\n",
       "      <th>Garage_Detchd</th>\n",
       "    </tr>\n",
       "  </thead>\n",
       "  <tbody>\n",
       "    <tr>\n",
       "      <th>0</th>\n",
       "      <td>5</td>\n",
       "      <td>2003</td>\n",
       "      <td>2003</td>\n",
       "      <td>706</td>\n",
       "      <td>856</td>\n",
       "      <td>856</td>\n",
       "      <td>854</td>\n",
       "      <td>0</td>\n",
       "      <td>1</td>\n",
       "      <td>2</td>\n",
       "      <td>3</td>\n",
       "      <td>8</td>\n",
       "      <td>0</td>\n",
       "      <td>2003.0</td>\n",
       "      <td>1085.793744</td>\n",
       "      <td>0</td>\n",
       "      <td>0</td>\n",
       "      <td>2008</td>\n",
       "      <td>208500</td>\n",
       "      <td>0</td>\n",
       "      <td>1</td>\n",
       "      <td>0</td>\n",
       "      <td>0</td>\n",
       "      <td>0</td>\n",
       "      <td>1</td>\n",
       "      <td>1</td>\n",
       "      <td>0</td>\n",
       "      <td>0</td>\n",
       "      <td>0</td>\n",
       "      <td>0</td>\n",
       "      <td>0</td>\n",
       "      <td>1</td>\n",
       "      <td>0</td>\n",
       "      <td>0</td>\n",
       "      <td>1</td>\n",
       "      <td>0</td>\n",
       "      <td>0</td>\n",
       "      <td>0</td>\n",
       "      <td>1</td>\n",
       "      <td>0</td>\n",
       "      <td>0</td>\n",
       "      <td>0</td>\n",
       "      <td>0</td>\n",
       "    </tr>\n",
       "    <tr>\n",
       "      <th>1</th>\n",
       "      <td>8</td>\n",
       "      <td>1976</td>\n",
       "      <td>1976</td>\n",
       "      <td>978</td>\n",
       "      <td>1262</td>\n",
       "      <td>1262</td>\n",
       "      <td>0</td>\n",
       "      <td>0</td>\n",
       "      <td>0</td>\n",
       "      <td>2</td>\n",
       "      <td>3</td>\n",
       "      <td>6</td>\n",
       "      <td>1</td>\n",
       "      <td>1976.0</td>\n",
       "      <td>196.316304</td>\n",
       "      <td>0</td>\n",
       "      <td>0</td>\n",
       "      <td>2007</td>\n",
       "      <td>181500</td>\n",
       "      <td>0</td>\n",
       "      <td>1</td>\n",
       "      <td>0</td>\n",
       "      <td>0</td>\n",
       "      <td>0</td>\n",
       "      <td>1</td>\n",
       "      <td>1</td>\n",
       "      <td>0</td>\n",
       "      <td>0</td>\n",
       "      <td>0</td>\n",
       "      <td>0</td>\n",
       "      <td>0</td>\n",
       "      <td>1</td>\n",
       "      <td>0</td>\n",
       "      <td>0</td>\n",
       "      <td>0</td>\n",
       "      <td>1</td>\n",
       "      <td>0</td>\n",
       "      <td>0</td>\n",
       "      <td>1</td>\n",
       "      <td>0</td>\n",
       "      <td>0</td>\n",
       "      <td>0</td>\n",
       "      <td>0</td>\n",
       "    </tr>\n",
       "    <tr>\n",
       "      <th>2</th>\n",
       "      <td>5</td>\n",
       "      <td>2001</td>\n",
       "      <td>2002</td>\n",
       "      <td>486</td>\n",
       "      <td>920</td>\n",
       "      <td>920</td>\n",
       "      <td>866</td>\n",
       "      <td>0</td>\n",
       "      <td>1</td>\n",
       "      <td>2</td>\n",
       "      <td>3</td>\n",
       "      <td>6</td>\n",
       "      <td>1</td>\n",
       "      <td>2001.0</td>\n",
       "      <td>218.068403</td>\n",
       "      <td>0</td>\n",
       "      <td>0</td>\n",
       "      <td>2008</td>\n",
       "      <td>223500</td>\n",
       "      <td>0</td>\n",
       "      <td>1</td>\n",
       "      <td>1</td>\n",
       "      <td>0</td>\n",
       "      <td>0</td>\n",
       "      <td>0</td>\n",
       "      <td>1</td>\n",
       "      <td>0</td>\n",
       "      <td>0</td>\n",
       "      <td>0</td>\n",
       "      <td>0</td>\n",
       "      <td>0</td>\n",
       "      <td>1</td>\n",
       "      <td>0</td>\n",
       "      <td>0</td>\n",
       "      <td>1</td>\n",
       "      <td>0</td>\n",
       "      <td>0</td>\n",
       "      <td>0</td>\n",
       "      <td>1</td>\n",
       "      <td>0</td>\n",
       "      <td>0</td>\n",
       "      <td>0</td>\n",
       "      <td>0</td>\n",
       "    </tr>\n",
       "    <tr>\n",
       "      <th>3</th>\n",
       "      <td>5</td>\n",
       "      <td>1915</td>\n",
       "      <td>1970</td>\n",
       "      <td>216</td>\n",
       "      <td>756</td>\n",
       "      <td>961</td>\n",
       "      <td>756</td>\n",
       "      <td>0</td>\n",
       "      <td>1</td>\n",
       "      <td>1</td>\n",
       "      <td>3</td>\n",
       "      <td>7</td>\n",
       "      <td>1</td>\n",
       "      <td>1998.0</td>\n",
       "      <td>696.996439</td>\n",
       "      <td>0</td>\n",
       "      <td>0</td>\n",
       "      <td>2006</td>\n",
       "      <td>140000</td>\n",
       "      <td>0</td>\n",
       "      <td>1</td>\n",
       "      <td>1</td>\n",
       "      <td>0</td>\n",
       "      <td>0</td>\n",
       "      <td>0</td>\n",
       "      <td>1</td>\n",
       "      <td>0</td>\n",
       "      <td>0</td>\n",
       "      <td>0</td>\n",
       "      <td>0</td>\n",
       "      <td>0</td>\n",
       "      <td>1</td>\n",
       "      <td>0</td>\n",
       "      <td>0</td>\n",
       "      <td>1</td>\n",
       "      <td>0</td>\n",
       "      <td>0</td>\n",
       "      <td>0</td>\n",
       "      <td>0</td>\n",
       "      <td>0</td>\n",
       "      <td>0</td>\n",
       "      <td>0</td>\n",
       "      <td>1</td>\n",
       "    </tr>\n",
       "    <tr>\n",
       "      <th>4</th>\n",
       "      <td>5</td>\n",
       "      <td>2000</td>\n",
       "      <td>2000</td>\n",
       "      <td>655</td>\n",
       "      <td>1145</td>\n",
       "      <td>1145</td>\n",
       "      <td>1053</td>\n",
       "      <td>0</td>\n",
       "      <td>1</td>\n",
       "      <td>2</td>\n",
       "      <td>4</td>\n",
       "      <td>9</td>\n",
       "      <td>1</td>\n",
       "      <td>2000.0</td>\n",
       "      <td>568.859882</td>\n",
       "      <td>0</td>\n",
       "      <td>0</td>\n",
       "      <td>2008</td>\n",
       "      <td>250000</td>\n",
       "      <td>0</td>\n",
       "      <td>1</td>\n",
       "      <td>1</td>\n",
       "      <td>0</td>\n",
       "      <td>0</td>\n",
       "      <td>0</td>\n",
       "      <td>1</td>\n",
       "      <td>0</td>\n",
       "      <td>0</td>\n",
       "      <td>0</td>\n",
       "      <td>0</td>\n",
       "      <td>0</td>\n",
       "      <td>1</td>\n",
       "      <td>0</td>\n",
       "      <td>0</td>\n",
       "      <td>1</td>\n",
       "      <td>0</td>\n",
       "      <td>0</td>\n",
       "      <td>0</td>\n",
       "      <td>1</td>\n",
       "      <td>0</td>\n",
       "      <td>0</td>\n",
       "      <td>0</td>\n",
       "      <td>0</td>\n",
       "    </tr>\n",
       "  </tbody>\n",
       "</table>\n",
       "</div>"
      ],
      "text/plain": [
       "   House_Condition  Construction_Year  Remodel_Year  BsmtFinSF1  Total_Basement_Area  First_Floor_Area  Second_Floor_Area  LowQualFinSF  Underground_Full_Bathroom  Full_Bathroom_Above_Grade  Bedroom_Above_Grade  Rooms_Above_Grade  Fireplaces  Garage_Built_Year  Garage_Area  Pool_Area  Miscellaneous_Value  Year_Sold  Sale_Price  Road_Type_Gravel  Road_Type_Paved  Property_Shape_IR1  Property_Shape_IR2  Property_Shape_IR3  Property_Shape_Reg  House_Type_1Fam  House_Type_2fmCon  House_Type_Duplex  House_Type_Twnhs  House_Type_TwnhsE  Air_Conditioning_N  Air_Conditioning_Y  Kitchen_Quality_Ex  Kitchen_Quality_Fa  Kitchen_Quality_Gd  Kitchen_Quality_TA  Garage_2TFes  Garage_2Types  Garage_Attchd  Garage_Basment  Garage_BuiltIn  Garage_CarPort  Garage_Detchd\n",
       "0                5               2003          2003         706                  856               856                854             0                          1                          2                    3                  8           0             2003.0  1085.793744          0                    0       2008      208500                 0                1                   0                   0                   0                   1                1                  0                  0                 0                  0                   0                   1                   0                   0                   1                   0             0              0              1               0               0               0              0\n",
       "1                8               1976          1976         978                 1262              1262                  0             0                          0                          2                    3                  6           1             1976.0   196.316304          0                    0       2007      181500                 0                1                   0                   0                   0                   1                1                  0                  0                 0                  0                   0                   1                   0                   0                   0                   1             0              0              1               0               0               0              0\n",
       "2                5               2001          2002         486                  920               920                866             0                          1                          2                    3                  6           1             2001.0   218.068403          0                    0       2008      223500                 0                1                   1                   0                   0                   0                1                  0                  0                 0                  0                   0                   1                   0                   0                   1                   0             0              0              1               0               0               0              0\n",
       "3                5               1915          1970         216                  756               961                756             0                          1                          1                    3                  7           1             1998.0   696.996439          0                    0       2006      140000                 0                1                   1                   0                   0                   0                1                  0                  0                 0                  0                   0                   1                   0                   0                   1                   0             0              0              0               0               0               0              1\n",
       "4                5               2000          2000         655                 1145              1145               1053             0                          1                          2                    4                  9           1             2000.0   568.859882          0                    0       2008      250000                 0                1                   1                   0                   0                   0                1                  0                  0                 0                  0                   0                   1                   0                   0                   1                   0             0              0              1               0               0               0              0"
      ]
     },
     "execution_count": 146,
     "metadata": {},
     "output_type": "execute_result"
    }
   ],
   "source": [
    "# Dummy Variable Creation\n",
    "fullraw=pd.get_dummies(fullraw) # Source column will create two columns Source_Train, Source_Test\n",
    "fullraw.head()  # Validation"
   ]
  },
  {
   "cell_type": "code",
   "execution_count": 147,
   "id": "26b5c404",
   "metadata": {},
   "outputs": [],
   "source": [
    "X=fullraw.drop(['Sale_Price'],axis=1).copy()\n",
    "y=fullraw['Sale_Price'].copy()\n"
   ]
  },
  {
   "cell_type": "code",
   "execution_count": 148,
   "id": "71ff5a36",
   "metadata": {},
   "outputs": [
    {
     "data": {
      "text/plain": [
       "0       208500\n",
       "1       181500\n",
       "2       223500\n",
       "3       140000\n",
       "4       250000\n",
       "         ...  \n",
       "1454    185000\n",
       "1455    175000\n",
       "1456    210000\n",
       "1457    266500\n",
       "1458    142125\n",
       "Name: Sale_Price, Length: 1459, dtype: int64"
      ]
     },
     "execution_count": 148,
     "metadata": {},
     "output_type": "execute_result"
    }
   ],
   "source": [
    "y"
   ]
  },
  {
   "cell_type": "code",
   "execution_count": 149,
   "id": "2e0769a9",
   "metadata": {},
   "outputs": [
    {
     "name": "stdout",
     "output_type": "stream",
     "text": [
      "(1459, 42) (1459,)\n"
     ]
    }
   ],
   "source": [
    "print(X.shape,y.shape)"
   ]
  },
  {
   "cell_type": "code",
   "execution_count": 150,
   "id": "4ee3e436",
   "metadata": {},
   "outputs": [
    {
     "name": "stdout",
     "output_type": "stream",
     "text": [
      "(1167, 42) (292, 42)\n",
      "(1167,) (292, 42)\n"
     ]
    }
   ],
   "source": [
    "from sklearn.model_selection import train_test_split\n",
    "trainX,testX,trainY,testY=train_test_split(X,y,train_size=0.8,random_state=123)\n",
    "print(trainX.shape,testX.shape)\n",
    "print(trainY.shape,testX.shape)"
   ]
  },
  {
   "cell_type": "code",
   "execution_count": 151,
   "id": "411137b1",
   "metadata": {},
   "outputs": [],
   "source": [
    "from sklearn.linear_model import LinearRegression"
   ]
  },
  {
   "cell_type": "code",
   "execution_count": 152,
   "id": "ce8a9fb2",
   "metadata": {},
   "outputs": [
    {
     "data": {
      "text/html": [
       "<style>#sk-container-id-3 {color: black;background-color: white;}#sk-container-id-3 pre{padding: 0;}#sk-container-id-3 div.sk-toggleable {background-color: white;}#sk-container-id-3 label.sk-toggleable__label {cursor: pointer;display: block;width: 100%;margin-bottom: 0;padding: 0.3em;box-sizing: border-box;text-align: center;}#sk-container-id-3 label.sk-toggleable__label-arrow:before {content: \"▸\";float: left;margin-right: 0.25em;color: #696969;}#sk-container-id-3 label.sk-toggleable__label-arrow:hover:before {color: black;}#sk-container-id-3 div.sk-estimator:hover label.sk-toggleable__label-arrow:before {color: black;}#sk-container-id-3 div.sk-toggleable__content {max-height: 0;max-width: 0;overflow: hidden;text-align: left;background-color: #f0f8ff;}#sk-container-id-3 div.sk-toggleable__content pre {margin: 0.2em;color: black;border-radius: 0.25em;background-color: #f0f8ff;}#sk-container-id-3 input.sk-toggleable__control:checked~div.sk-toggleable__content {max-height: 200px;max-width: 100%;overflow: auto;}#sk-container-id-3 input.sk-toggleable__control:checked~label.sk-toggleable__label-arrow:before {content: \"▾\";}#sk-container-id-3 div.sk-estimator input.sk-toggleable__control:checked~label.sk-toggleable__label {background-color: #d4ebff;}#sk-container-id-3 div.sk-label input.sk-toggleable__control:checked~label.sk-toggleable__label {background-color: #d4ebff;}#sk-container-id-3 input.sk-hidden--visually {border: 0;clip: rect(1px 1px 1px 1px);clip: rect(1px, 1px, 1px, 1px);height: 1px;margin: -1px;overflow: hidden;padding: 0;position: absolute;width: 1px;}#sk-container-id-3 div.sk-estimator {font-family: monospace;background-color: #f0f8ff;border: 1px dotted black;border-radius: 0.25em;box-sizing: border-box;margin-bottom: 0.5em;}#sk-container-id-3 div.sk-estimator:hover {background-color: #d4ebff;}#sk-container-id-3 div.sk-parallel-item::after {content: \"\";width: 100%;border-bottom: 1px solid gray;flex-grow: 1;}#sk-container-id-3 div.sk-label:hover label.sk-toggleable__label {background-color: #d4ebff;}#sk-container-id-3 div.sk-serial::before {content: \"\";position: absolute;border-left: 1px solid gray;box-sizing: border-box;top: 0;bottom: 0;left: 50%;z-index: 0;}#sk-container-id-3 div.sk-serial {display: flex;flex-direction: column;align-items: center;background-color: white;padding-right: 0.2em;padding-left: 0.2em;position: relative;}#sk-container-id-3 div.sk-item {position: relative;z-index: 1;}#sk-container-id-3 div.sk-parallel {display: flex;align-items: stretch;justify-content: center;background-color: white;position: relative;}#sk-container-id-3 div.sk-item::before, #sk-container-id-3 div.sk-parallel-item::before {content: \"\";position: absolute;border-left: 1px solid gray;box-sizing: border-box;top: 0;bottom: 0;left: 50%;z-index: -1;}#sk-container-id-3 div.sk-parallel-item {display: flex;flex-direction: column;z-index: 1;position: relative;background-color: white;}#sk-container-id-3 div.sk-parallel-item:first-child::after {align-self: flex-end;width: 50%;}#sk-container-id-3 div.sk-parallel-item:last-child::after {align-self: flex-start;width: 50%;}#sk-container-id-3 div.sk-parallel-item:only-child::after {width: 0;}#sk-container-id-3 div.sk-dashed-wrapped {border: 1px dashed gray;margin: 0 0.4em 0.5em 0.4em;box-sizing: border-box;padding-bottom: 0.4em;background-color: white;}#sk-container-id-3 div.sk-label label {font-family: monospace;font-weight: bold;display: inline-block;line-height: 1.2em;}#sk-container-id-3 div.sk-label-container {text-align: center;}#sk-container-id-3 div.sk-container {/* jupyter's `normalize.less` sets `[hidden] { display: none; }` but bootstrap.min.css set `[hidden] { display: none !important; }` so we also need the `!important` here to be able to override the default hidden behavior on the sphinx rendered scikit-learn.org. See: https://github.com/scikit-learn/scikit-learn/issues/21755 */display: inline-block !important;position: relative;}#sk-container-id-3 div.sk-text-repr-fallback {display: none;}</style><div id=\"sk-container-id-3\" class=\"sk-top-container\"><div class=\"sk-text-repr-fallback\"><pre>LinearRegression()</pre><b>In a Jupyter environment, please rerun this cell to show the HTML representation or trust the notebook. <br />On GitHub, the HTML representation is unable to render, please try loading this page with nbviewer.org.</b></div><div class=\"sk-container\" hidden><div class=\"sk-item\"><div class=\"sk-estimator sk-toggleable\"><input class=\"sk-toggleable__control sk-hidden--visually\" id=\"sk-estimator-id-3\" type=\"checkbox\" checked><label for=\"sk-estimator-id-3\" class=\"sk-toggleable__label sk-toggleable__label-arrow\">LinearRegression</label><div class=\"sk-toggleable__content\"><pre>LinearRegression()</pre></div></div></div></div></div>"
      ],
      "text/plain": [
       "LinearRegression()"
      ]
     },
     "execution_count": 152,
     "metadata": {},
     "output_type": "execute_result"
    }
   ],
   "source": [
    "lr=LinearRegression()\n",
    "lr.fit(trainX,trainY)"
   ]
  },
  {
   "cell_type": "code",
   "execution_count": 153,
   "id": "437b588b",
   "metadata": {},
   "outputs": [],
   "source": [
    "predY=lr.predict(testX)"
   ]
  },
  {
   "cell_type": "code",
   "execution_count": 154,
   "id": "2df51c5a",
   "metadata": {},
   "outputs": [],
   "source": [
    "from sklearn.metrics import r2_score,mean_squared_error,mean_absolute_percentage_error"
   ]
  },
  {
   "cell_type": "code",
   "execution_count": 4,
   "id": "68e67c6c",
   "metadata": {},
   "outputs": [],
   "source": [
    "# function to validate our model\n",
    "def validation(test,pred,data):\n",
    "    r2=r2_score(test,pred)\n",
    "    n=data.shape[0]\n",
    "    k=data.shape[1]\n",
    "    adj_2=1-(((n-1)/(n-k-1))*(1-r2))\n",
    "    \n",
    "    print(\"R Square :\",r2)\n",
    "    print(\"Adj. R Square :\",adj_2)\n",
    "    print(\"Mean Square Error :\",mean_squared_error(test,pred))\n",
    "    print(\"Root Mean Square Error :\",(mean_squared_error(test,pred)**0.5))\n",
    "    print(\"Mean Absolute Percentage Error :\",mean_absolute_percentage_error(test,pred))\n",
    "    \n",
    "    "
   ]
  },
  {
   "cell_type": "code",
   "execution_count": 156,
   "id": "6c16001b",
   "metadata": {},
   "outputs": [
    {
     "name": "stdout",
     "output_type": "stream",
     "text": [
      "R Square : 0.822227620970654\n",
      "Adj. R Square : 0.8168253507952039\n",
      "Mean Square Error : 1101225442.8179898\n",
      "Root Mean Square Error : 33184.7170067486\n",
      "Mean Absolute Percentage Error : 0.11374655661206219\n"
     ]
    }
   ],
   "source": [
    "validation(testY,predY,fullraw)"
   ]
  },
  {
   "cell_type": "markdown",
   "id": "ac5f5a1d",
   "metadata": {},
   "source": [
    "# Standardize train and tests  data using train mertices"
   ]
  },
  {
   "cell_type": "code",
   "execution_count": 157,
   "id": "e05a7ebf",
   "metadata": {},
   "outputs": [],
   "source": [
    "from sklearn.preprocessing import StandardScaler\n",
    "\n",
    "Train_Scaling = StandardScaler().fit(trainX)    \n",
    "# Train Scaling contains means,std_dev of training datset, it calculated mean and std of train data only\n",
    "Train_Standardized = Train_Scaling.transform(trainX)     # This step is stadardizes the train data\n",
    "Test_Standardized = Train_Scaling.transform(testX)       # This step standardized the test data\n",
    "\n",
    "\n",
    "# ADd the columns names to Train_X_Std,Test_X_Std\n",
    "Train_Standardized= pd.DataFrame(Train_Standardized,columns= trainX.columns)\n",
    "Test_Standardized=pd.DataFrame(Test_Standardized,columns=testX.columns)"
   ]
  },
  {
   "cell_type": "code",
   "execution_count": 158,
   "id": "4e02068e",
   "metadata": {},
   "outputs": [
    {
     "data": {
      "text/html": [
       "<div>\n",
       "<style scoped>\n",
       "    .dataframe tbody tr th:only-of-type {\n",
       "        vertical-align: middle;\n",
       "    }\n",
       "\n",
       "    .dataframe tbody tr th {\n",
       "        vertical-align: top;\n",
       "    }\n",
       "\n",
       "    .dataframe thead th {\n",
       "        text-align: right;\n",
       "    }\n",
       "</style>\n",
       "<table border=\"1\" class=\"dataframe\">\n",
       "  <thead>\n",
       "    <tr style=\"text-align: right;\">\n",
       "      <th></th>\n",
       "      <th>House_Condition</th>\n",
       "      <th>Construction_Year</th>\n",
       "      <th>Remodel_Year</th>\n",
       "      <th>BsmtFinSF1</th>\n",
       "      <th>Total_Basement_Area</th>\n",
       "      <th>First_Floor_Area</th>\n",
       "      <th>Second_Floor_Area</th>\n",
       "      <th>LowQualFinSF</th>\n",
       "      <th>Underground_Full_Bathroom</th>\n",
       "      <th>Full_Bathroom_Above_Grade</th>\n",
       "      <th>Bedroom_Above_Grade</th>\n",
       "      <th>Rooms_Above_Grade</th>\n",
       "      <th>Fireplaces</th>\n",
       "      <th>Garage_Built_Year</th>\n",
       "      <th>Garage_Area</th>\n",
       "      <th>Pool_Area</th>\n",
       "      <th>Miscellaneous_Value</th>\n",
       "      <th>Year_Sold</th>\n",
       "      <th>Road_Type_Gravel</th>\n",
       "      <th>Road_Type_Paved</th>\n",
       "      <th>Property_Shape_IR1</th>\n",
       "      <th>Property_Shape_IR2</th>\n",
       "      <th>Property_Shape_IR3</th>\n",
       "      <th>Property_Shape_Reg</th>\n",
       "      <th>House_Type_1Fam</th>\n",
       "      <th>House_Type_2fmCon</th>\n",
       "      <th>House_Type_Duplex</th>\n",
       "      <th>House_Type_Twnhs</th>\n",
       "      <th>House_Type_TwnhsE</th>\n",
       "      <th>Air_Conditioning_N</th>\n",
       "      <th>Air_Conditioning_Y</th>\n",
       "      <th>Kitchen_Quality_Ex</th>\n",
       "      <th>Kitchen_Quality_Fa</th>\n",
       "      <th>Kitchen_Quality_Gd</th>\n",
       "      <th>Kitchen_Quality_TA</th>\n",
       "      <th>Garage_2TFes</th>\n",
       "      <th>Garage_2Types</th>\n",
       "      <th>Garage_Attchd</th>\n",
       "      <th>Garage_Basment</th>\n",
       "      <th>Garage_BuiltIn</th>\n",
       "      <th>Garage_CarPort</th>\n",
       "      <th>Garage_Detchd</th>\n",
       "    </tr>\n",
       "  </thead>\n",
       "  <tbody>\n",
       "    <tr>\n",
       "      <th>0</th>\n",
       "      <td>-0.515029</td>\n",
       "      <td>0.992289</td>\n",
       "      <td>0.781521</td>\n",
       "      <td>-0.960713</td>\n",
       "      <td>-0.392843</td>\n",
       "      <td>-0.713300</td>\n",
       "      <td>1.842731</td>\n",
       "      <td>-0.120969</td>\n",
       "      <td>-0.812685</td>\n",
       "      <td>0.78377</td>\n",
       "      <td>0.157470</td>\n",
       "      <td>0.887762</td>\n",
       "      <td>0.618146</td>\n",
       "      <td>0.939168</td>\n",
       "      <td>-1.150039</td>\n",
       "      <td>-0.076878</td>\n",
       "      <td>-0.086768</td>\n",
       "      <td>1.603299</td>\n",
       "      <td>-0.071889</td>\n",
       "      <td>0.071889</td>\n",
       "      <td>1.459002</td>\n",
       "      <td>-0.162435</td>\n",
       "      <td>-0.083081</td>\n",
       "      <td>-1.356251</td>\n",
       "      <td>0.450658</td>\n",
       "      <td>-0.147957</td>\n",
       "      <td>-0.200267</td>\n",
       "      <td>-0.17841</td>\n",
       "      <td>-0.290813</td>\n",
       "      <td>-0.263933</td>\n",
       "      <td>0.263933</td>\n",
       "      <td>-0.256424</td>\n",
       "      <td>-0.159635</td>\n",
       "      <td>1.211293</td>\n",
       "      <td>-1.016416</td>\n",
       "      <td>-0.050767</td>\n",
       "      <td>0.0</td>\n",
       "      <td>-1.400689</td>\n",
       "      <td>-0.117902</td>\n",
       "      <td>4.151430</td>\n",
       "      <td>-0.083081</td>\n",
       "      <td>-0.592195</td>\n",
       "    </tr>\n",
       "    <tr>\n",
       "      <th>1</th>\n",
       "      <td>-3.166670</td>\n",
       "      <td>-2.330197</td>\n",
       "      <td>-1.697627</td>\n",
       "      <td>-0.960713</td>\n",
       "      <td>0.077433</td>\n",
       "      <td>-0.182191</td>\n",
       "      <td>0.761914</td>\n",
       "      <td>-0.120969</td>\n",
       "      <td>1.099418</td>\n",
       "      <td>0.78377</td>\n",
       "      <td>1.358564</td>\n",
       "      <td>0.887762</td>\n",
       "      <td>-0.953480</td>\n",
       "      <td>-2.419770</td>\n",
       "      <td>0.698554</td>\n",
       "      <td>-0.076878</td>\n",
       "      <td>-0.086768</td>\n",
       "      <td>-1.389184</td>\n",
       "      <td>-0.071889</td>\n",
       "      <td>0.071889</td>\n",
       "      <td>-0.685400</td>\n",
       "      <td>-0.162435</td>\n",
       "      <td>-0.083081</td>\n",
       "      <td>0.737327</td>\n",
       "      <td>0.450658</td>\n",
       "      <td>-0.147957</td>\n",
       "      <td>-0.200267</td>\n",
       "      <td>-0.17841</td>\n",
       "      <td>-0.290813</td>\n",
       "      <td>3.788834</td>\n",
       "      <td>-3.788834</td>\n",
       "      <td>-0.256424</td>\n",
       "      <td>-0.159635</td>\n",
       "      <td>-0.825564</td>\n",
       "      <td>0.983849</td>\n",
       "      <td>-0.050767</td>\n",
       "      <td>1.0</td>\n",
       "      <td>-1.400689</td>\n",
       "      <td>-0.117902</td>\n",
       "      <td>-0.240881</td>\n",
       "      <td>-0.083081</td>\n",
       "      <td>-0.592195</td>\n",
       "    </tr>\n",
       "  </tbody>\n",
       "</table>\n",
       "</div>"
      ],
      "text/plain": [
       "   House_Condition  Construction_Year  Remodel_Year  BsmtFinSF1  Total_Basement_Area  First_Floor_Area  Second_Floor_Area  LowQualFinSF  Underground_Full_Bathroom  Full_Bathroom_Above_Grade  Bedroom_Above_Grade  Rooms_Above_Grade  Fireplaces  Garage_Built_Year  Garage_Area  Pool_Area  Miscellaneous_Value  Year_Sold  Road_Type_Gravel  Road_Type_Paved  Property_Shape_IR1  Property_Shape_IR2  Property_Shape_IR3  Property_Shape_Reg  House_Type_1Fam  House_Type_2fmCon  House_Type_Duplex  House_Type_Twnhs  House_Type_TwnhsE  Air_Conditioning_N  Air_Conditioning_Y  Kitchen_Quality_Ex  Kitchen_Quality_Fa  Kitchen_Quality_Gd  Kitchen_Quality_TA  Garage_2TFes  Garage_2Types  Garage_Attchd  Garage_Basment  Garage_BuiltIn  Garage_CarPort  Garage_Detchd\n",
       "0        -0.515029           0.992289      0.781521   -0.960713            -0.392843         -0.713300           1.842731     -0.120969                  -0.812685                    0.78377             0.157470           0.887762    0.618146           0.939168    -1.150039  -0.076878            -0.086768   1.603299         -0.071889         0.071889            1.459002           -0.162435           -0.083081           -1.356251         0.450658          -0.147957          -0.200267          -0.17841          -0.290813           -0.263933            0.263933           -0.256424           -0.159635            1.211293           -1.016416     -0.050767            0.0      -1.400689       -0.117902        4.151430       -0.083081      -0.592195\n",
       "1        -3.166670          -2.330197     -1.697627   -0.960713             0.077433         -0.182191           0.761914     -0.120969                   1.099418                    0.78377             1.358564           0.887762   -0.953480          -2.419770     0.698554  -0.076878            -0.086768  -1.389184         -0.071889         0.071889           -0.685400           -0.162435           -0.083081            0.737327         0.450658          -0.147957          -0.200267          -0.17841          -0.290813            3.788834           -3.788834           -0.256424           -0.159635           -0.825564            0.983849     -0.050767            1.0      -1.400689       -0.117902       -0.240881       -0.083081      -0.592195"
      ]
     },
     "execution_count": 158,
     "metadata": {},
     "output_type": "execute_result"
    }
   ],
   "source": [
    "Test_Standardized.head(2)"
   ]
  },
  {
   "cell_type": "code",
   "execution_count": 159,
   "id": "34f9b286",
   "metadata": {},
   "outputs": [
    {
     "data": {
      "text/html": [
       "<div>\n",
       "<style scoped>\n",
       "    .dataframe tbody tr th:only-of-type {\n",
       "        vertical-align: middle;\n",
       "    }\n",
       "\n",
       "    .dataframe tbody tr th {\n",
       "        vertical-align: top;\n",
       "    }\n",
       "\n",
       "    .dataframe thead th {\n",
       "        text-align: right;\n",
       "    }\n",
       "</style>\n",
       "<table border=\"1\" class=\"dataframe\">\n",
       "  <thead>\n",
       "    <tr style=\"text-align: right;\">\n",
       "      <th></th>\n",
       "      <th>House_Condition</th>\n",
       "      <th>Construction_Year</th>\n",
       "      <th>Remodel_Year</th>\n",
       "      <th>BsmtFinSF1</th>\n",
       "      <th>Total_Basement_Area</th>\n",
       "      <th>First_Floor_Area</th>\n",
       "      <th>Second_Floor_Area</th>\n",
       "      <th>LowQualFinSF</th>\n",
       "      <th>Underground_Full_Bathroom</th>\n",
       "      <th>Full_Bathroom_Above_Grade</th>\n",
       "      <th>Bedroom_Above_Grade</th>\n",
       "      <th>Rooms_Above_Grade</th>\n",
       "      <th>Fireplaces</th>\n",
       "      <th>Garage_Built_Year</th>\n",
       "      <th>Garage_Area</th>\n",
       "      <th>Pool_Area</th>\n",
       "      <th>Miscellaneous_Value</th>\n",
       "      <th>Year_Sold</th>\n",
       "      <th>Road_Type_Gravel</th>\n",
       "      <th>Road_Type_Paved</th>\n",
       "      <th>Property_Shape_IR1</th>\n",
       "      <th>Property_Shape_IR2</th>\n",
       "      <th>Property_Shape_IR3</th>\n",
       "      <th>Property_Shape_Reg</th>\n",
       "      <th>House_Type_1Fam</th>\n",
       "      <th>House_Type_2fmCon</th>\n",
       "      <th>House_Type_Duplex</th>\n",
       "      <th>House_Type_Twnhs</th>\n",
       "      <th>House_Type_TwnhsE</th>\n",
       "      <th>Air_Conditioning_N</th>\n",
       "      <th>Air_Conditioning_Y</th>\n",
       "      <th>Kitchen_Quality_Ex</th>\n",
       "      <th>Kitchen_Quality_Fa</th>\n",
       "      <th>Kitchen_Quality_Gd</th>\n",
       "      <th>Kitchen_Quality_TA</th>\n",
       "      <th>Garage_2TFes</th>\n",
       "      <th>Garage_2Types</th>\n",
       "      <th>Garage_Attchd</th>\n",
       "      <th>Garage_Basment</th>\n",
       "      <th>Garage_BuiltIn</th>\n",
       "      <th>Garage_CarPort</th>\n",
       "      <th>Garage_Detchd</th>\n",
       "    </tr>\n",
       "  </thead>\n",
       "  <tbody>\n",
       "    <tr>\n",
       "      <th>0</th>\n",
       "      <td>-0.515029</td>\n",
       "      <td>0.729122</td>\n",
       "      <td>0.392635</td>\n",
       "      <td>1.158719</td>\n",
       "      <td>0.639089</td>\n",
       "      <td>0.515046</td>\n",
       "      <td>2.124385</td>\n",
       "      <td>-0.120969</td>\n",
       "      <td>1.099418</td>\n",
       "      <td>0.783770</td>\n",
       "      <td>1.358564</td>\n",
       "      <td>1.494686</td>\n",
       "      <td>0.618146</td>\n",
       "      <td>0.607421</td>\n",
       "      <td>-0.367566</td>\n",
       "      <td>-0.076878</td>\n",
       "      <td>-0.086768</td>\n",
       "      <td>0.855178</td>\n",
       "      <td>-0.071889</td>\n",
       "      <td>0.071889</td>\n",
       "      <td>-0.685400</td>\n",
       "      <td>-0.162435</td>\n",
       "      <td>-0.083081</td>\n",
       "      <td>0.737327</td>\n",
       "      <td>0.450658</td>\n",
       "      <td>-0.147957</td>\n",
       "      <td>-0.200267</td>\n",
       "      <td>-0.17841</td>\n",
       "      <td>-0.290813</td>\n",
       "      <td>-0.263933</td>\n",
       "      <td>0.263933</td>\n",
       "      <td>-0.256424</td>\n",
       "      <td>-0.159635</td>\n",
       "      <td>1.211293</td>\n",
       "      <td>-1.016416</td>\n",
       "      <td>-0.050767</td>\n",
       "      <td>0.0</td>\n",
       "      <td>0.713934</td>\n",
       "      <td>-0.117902</td>\n",
       "      <td>-0.240881</td>\n",
       "      <td>-0.083081</td>\n",
       "      <td>-0.592195</td>\n",
       "    </tr>\n",
       "    <tr>\n",
       "      <th>1</th>\n",
       "      <td>0.368852</td>\n",
       "      <td>-0.356443</td>\n",
       "      <td>0.100970</td>\n",
       "      <td>0.314812</td>\n",
       "      <td>0.186644</td>\n",
       "      <td>0.658521</td>\n",
       "      <td>-0.792906</td>\n",
       "      <td>-0.120969</td>\n",
       "      <td>-0.812685</td>\n",
       "      <td>-1.031031</td>\n",
       "      <td>0.157470</td>\n",
       "      <td>0.280839</td>\n",
       "      <td>2.189772</td>\n",
       "      <td>-0.761035</td>\n",
       "      <td>0.017782</td>\n",
       "      <td>-0.076878</td>\n",
       "      <td>-0.086768</td>\n",
       "      <td>-0.641063</td>\n",
       "      <td>-0.071889</td>\n",
       "      <td>0.071889</td>\n",
       "      <td>1.459002</td>\n",
       "      <td>-0.162435</td>\n",
       "      <td>-0.083081</td>\n",
       "      <td>-1.356251</td>\n",
       "      <td>0.450658</td>\n",
       "      <td>-0.147957</td>\n",
       "      <td>-0.200267</td>\n",
       "      <td>-0.17841</td>\n",
       "      <td>-0.290813</td>\n",
       "      <td>-0.263933</td>\n",
       "      <td>0.263933</td>\n",
       "      <td>-0.256424</td>\n",
       "      <td>-0.159635</td>\n",
       "      <td>1.211293</td>\n",
       "      <td>-1.016416</td>\n",
       "      <td>-0.050767</td>\n",
       "      <td>0.0</td>\n",
       "      <td>0.713934</td>\n",
       "      <td>-0.117902</td>\n",
       "      <td>-0.240881</td>\n",
       "      <td>-0.083081</td>\n",
       "      <td>-0.592195</td>\n",
       "    </tr>\n",
       "  </tbody>\n",
       "</table>\n",
       "</div>"
      ],
      "text/plain": [
       "   House_Condition  Construction_Year  Remodel_Year  BsmtFinSF1  Total_Basement_Area  First_Floor_Area  Second_Floor_Area  LowQualFinSF  Underground_Full_Bathroom  Full_Bathroom_Above_Grade  Bedroom_Above_Grade  Rooms_Above_Grade  Fireplaces  Garage_Built_Year  Garage_Area  Pool_Area  Miscellaneous_Value  Year_Sold  Road_Type_Gravel  Road_Type_Paved  Property_Shape_IR1  Property_Shape_IR2  Property_Shape_IR3  Property_Shape_Reg  House_Type_1Fam  House_Type_2fmCon  House_Type_Duplex  House_Type_Twnhs  House_Type_TwnhsE  Air_Conditioning_N  Air_Conditioning_Y  Kitchen_Quality_Ex  Kitchen_Quality_Fa  Kitchen_Quality_Gd  Kitchen_Quality_TA  Garage_2TFes  Garage_2Types  Garage_Attchd  Garage_Basment  Garage_BuiltIn  Garage_CarPort  Garage_Detchd\n",
       "0        -0.515029           0.729122      0.392635    1.158719             0.639089          0.515046           2.124385     -0.120969                   1.099418                   0.783770             1.358564           1.494686    0.618146           0.607421    -0.367566  -0.076878            -0.086768   0.855178         -0.071889         0.071889           -0.685400           -0.162435           -0.083081            0.737327         0.450658          -0.147957          -0.200267          -0.17841          -0.290813           -0.263933            0.263933           -0.256424           -0.159635            1.211293           -1.016416     -0.050767            0.0       0.713934       -0.117902       -0.240881       -0.083081      -0.592195\n",
       "1         0.368852          -0.356443      0.100970    0.314812             0.186644          0.658521          -0.792906     -0.120969                  -0.812685                  -1.031031             0.157470           0.280839    2.189772          -0.761035     0.017782  -0.076878            -0.086768  -0.641063         -0.071889         0.071889            1.459002           -0.162435           -0.083081           -1.356251         0.450658          -0.147957          -0.200267          -0.17841          -0.290813           -0.263933            0.263933           -0.256424           -0.159635            1.211293           -1.016416     -0.050767            0.0       0.713934       -0.117902       -0.240881       -0.083081      -0.592195"
      ]
     },
     "execution_count": 159,
     "metadata": {},
     "output_type": "execute_result"
    }
   ],
   "source": [
    "Train_Standardized.head(2)\n",
    "#Train_Scaling"
   ]
  },
  {
   "cell_type": "markdown",
   "id": "e395f74e",
   "metadata": {},
   "source": [
    "# Feature Selection through PCA\n"
   ]
  },
  {
   "cell_type": "code",
   "execution_count": 160,
   "id": "51b995db",
   "metadata": {},
   "outputs": [],
   "source": [
    "from sklearn.decomposition import PCA\n",
    "PCA_Model=PCA(n_components=.9).fit(Train_Standardized)\n",
    "# n_component=0.90: 90% Variance to be caputured\n",
    "# if n_components<1 will act as % variance to be captured using PCA\n",
    "# if n_components>=1, will act as no. of PCs to be created using PCA\n"
   ]
  },
  {
   "cell_type": "code",
   "execution_count": 161,
   "id": "c1e24495",
   "metadata": {},
   "outputs": [
    {
     "data": {
      "text/plain": [
       "24"
      ]
     },
     "execution_count": 161,
     "metadata": {},
     "output_type": "execute_result"
    }
   ],
   "source": [
    "# coefficient understanding\n",
    "len(PCA_Model.components_)   # Total PCs found to explain 90% of data"
   ]
  },
  {
   "cell_type": "code",
   "execution_count": 162,
   "id": "f45bf0af",
   "metadata": {},
   "outputs": [
    {
     "data": {
      "text/plain": [
       "array([[-0.0702696 ,  0.31890624,  0.27717908, ...,  0.07526326,\n",
       "        -0.04204792, -0.24842537],\n",
       "       [ 0.05490571, -0.13590524, -0.02659843, ...,  0.2315297 ,\n",
       "        -0.0331762 ,  0.0693679 ],\n",
       "       [-0.14261537, -0.0830418 , -0.17999118, ..., -0.10459033,\n",
       "         0.11232628, -0.07787145],\n",
       "       ...,\n",
       "       [ 0.23778675, -0.07132313,  0.07331395, ...,  0.08264878,\n",
       "         0.25266186, -0.26543329],\n",
       "       [-0.05690963, -0.04521981, -0.14842938, ..., -0.03287967,\n",
       "        -0.03161304,  0.12876889],\n",
       "       [-0.24205945, -0.03183682, -0.11465989, ..., -0.11779137,\n",
       "         0.20013637,  0.0877277 ]])"
      ]
     },
     "execution_count": 162,
     "metadata": {},
     "output_type": "execute_result"
    }
   ],
   "source": [
    "PCA_Model.components_\n",
    "# coefficient of Linear Equations(Eigen Vector)"
   ]
  },
  {
   "cell_type": "code",
   "execution_count": 163,
   "id": "2a8704ae",
   "metadata": {},
   "outputs": [
    {
     "data": {
      "text/plain": [
       "(24, 42)"
      ]
     },
     "execution_count": 163,
     "metadata": {},
     "output_type": "execute_result"
    }
   ],
   "source": [
    "PCA_Model.components_.shape\n"
   ]
  },
  {
   "cell_type": "code",
   "execution_count": 164,
   "id": "1d54ab99",
   "metadata": {},
   "outputs": [
    {
     "data": {
      "text/plain": [
       "array([5.91349598, 3.03435948, 2.58350877, 2.41761948, 1.96936146,\n",
       "       1.87032124, 1.59589519, 1.49726694, 1.35532918, 1.2225951 ,\n",
       "       1.19060374, 1.15994243, 1.08251501, 1.06942971, 1.05455424,\n",
       "       1.01723295, 0.98912527, 0.94855931, 0.93820262, 0.91248719,\n",
       "       0.8885094 , 0.83134353, 0.81984955, 0.77171204])"
      ]
     },
     "execution_count": 164,
     "metadata": {},
     "output_type": "execute_result"
    }
   ],
   "source": [
    "PCA_Model.explained_variance_"
   ]
  },
  {
   "cell_type": "code",
   "execution_count": 165,
   "id": "697bba48",
   "metadata": {},
   "outputs": [
    {
     "data": {
      "text/plain": [
       "array([0.14410802, 0.07394535, 0.06295841, 0.0589158 , 0.04799205,\n",
       "       0.0455785 , 0.03889092, 0.03648741, 0.03302848, 0.02979384,\n",
       "       0.02901423, 0.02826704, 0.02638018, 0.0260613 , 0.02569879,\n",
       "       0.0247893 , 0.02410433, 0.02311577, 0.02286338, 0.02223671,\n",
       "       0.02165239, 0.0202593 , 0.0199792 , 0.01880612])"
      ]
     },
     "execution_count": 165,
     "metadata": {},
     "output_type": "execute_result"
    }
   ],
   "source": [
    "PCA_Model.explained_variance_ratio_"
   ]
  },
  {
   "cell_type": "code",
   "execution_count": 166,
   "id": "b6dbb742",
   "metadata": {},
   "outputs": [
    {
     "data": {
      "text/plain": [
       "array([0.14410802, 0.21805337, 0.28101178, 0.33992758, 0.38791963,\n",
       "       0.43349813, 0.47238905, 0.50887646, 0.54190495, 0.57169879,\n",
       "       0.60071302, 0.62898005, 0.65536023, 0.68142153, 0.70712033,\n",
       "       0.73190963, 0.75601396, 0.77912973, 0.80199311, 0.82422983,\n",
       "       0.84588222, 0.86614152, 0.88612071, 0.90492683])"
      ]
     },
     "execution_count": 166,
     "metadata": {},
     "output_type": "execute_result"
    }
   ],
   "source": [
    "import numpy as np\n",
    "np.cumsum(PCA_Model.explained_variance_ratio_)"
   ]
  },
  {
   "cell_type": "code",
   "execution_count": 167,
   "id": "4ba4fad3",
   "metadata": {},
   "outputs": [
    {
     "data": {
      "text/plain": [
       "[<matplotlib.lines.Line2D at 0xb00dcff460>]"
      ]
     },
     "execution_count": 167,
     "metadata": {},
     "output_type": "execute_result"
    },
    {
     "data": {
      "image/png": "[encoded data removed]",
      "text/plain": [
       "<Figure size 432x288 with 1 Axes>"
      ]
     },
     "metadata": {
      "needs_background": "light"
     },
     "output_type": "display_data"
    }
   ],
   "source": [
    "import matplotlib.pyplot as plt\n",
    "plt.plot(np.cumsum(PCA_Model.explained_variance_ratio_))"
   ]
  },
  {
   "cell_type": "markdown",
   "id": "613a9f37",
   "metadata": {},
   "source": [
    "# Regression Models"
   ]
  },
  {
   "cell_type": "code",
   "execution_count": 1,
   "id": "9794e7e8",
   "metadata": {},
   "outputs": [],
   "source": [
    "# funnction to apply differnet model \n",
    "def different_model(model,no_pca):\n",
    "    pca = PCA(n_components=no_pca)\n",
    "    X_train_trf = pca.fit_transform(trainX)\n",
    "    X_test_trf = pca.transform(testX)\n",
    "    \n",
    "    ml=model()\n",
    "    \n",
    "    ml.fit(X_train_trf,trainY)\n",
    "    \n",
    "    predY = ml.predict(X_test_trf)\n",
    "    \n",
    "    validation(testY,predY,fullraw)\n",
    "    \n",
    "    "
   ]
  },
  {
   "cell_type": "code",
   "execution_count": 171,
   "id": "faa8db1f",
   "metadata": {},
   "outputs": [],
   "source": [
    "from sklearn.tree import DecisionTreeRegressor\n",
    "from sklearn.ensemble import RandomForestRegressor\n",
    "from sklearn.neighbors import KNeighborsRegressor\n",
    "from sklearn.svm import SVR\n"
   ]
  },
  {
   "cell_type": "code",
   "execution_count": 173,
   "id": "f9698d49",
   "metadata": {},
   "outputs": [
    {
     "name": "stdout",
     "output_type": "stream",
     "text": [
      "R Square : 0.5730339886570861\n",
      "Adj. R Square : 0.5600590497964887\n",
      "Mean Square Error : 2644875640.842466\n",
      "Root Mean Square Error : 51428.35444424083\n",
      "Mean Absolute Percentage Error : 0.16929954494981933\n"
     ]
    }
   ],
   "source": [
    "different_model(DecisionTreeRegressor,24)"
   ]
  },
  {
   "cell_type": "code",
   "execution_count": 174,
   "id": "44a2feb0",
   "metadata": {},
   "outputs": [
    {
     "name": "stdout",
     "output_type": "stream",
     "text": [
      "R Square : 0.7711885789798076\n",
      "Adj. R Square : 0.7642352990477452\n",
      "Mean Square Error : 1417390934.4667099\n",
      "Root Mean Square Error : 37648.252741219076\n",
      "Mean Absolute Percentage Error : 0.11716350541262431\n"
     ]
    }
   ],
   "source": [
    "different_model(RandomForestRegressor,24)"
   ]
  },
  {
   "cell_type": "code",
   "execution_count": 175,
   "id": "1f8f5bd7",
   "metadata": {},
   "outputs": [
    {
     "name": "stdout",
     "output_type": "stream",
     "text": [
      "R Square : 0.7412857622094055\n",
      "Adj. R Square : 0.733423774771246\n",
      "Mean Square Error : 1602626362.0358906\n",
      "Root Mean Square Error : 40032.8160642727\n",
      "Mean Absolute Percentage Error : 0.1545822177432728\n"
     ]
    }
   ],
   "source": [
    "different_model(KNeighborsRegressor,24)"
   ]
  },
  {
   "cell_type": "code",
   "execution_count": 126,
   "id": "f6fc21c4",
   "metadata": {},
   "outputs": [
    {
     "name": "stdout",
     "output_type": "stream",
     "text": [
      "R Square : -0.07027874295874947\n",
      "Adj. R Square : -0.10280311465290248\n",
      "Mean Square Error : 6629928614.832051\n",
      "Root Mean Square Error : 81424.37359189232\n",
      "Mean Absolute Percentage Error : 0.2986302724563088\n"
     ]
    }
   ],
   "source": [
    "different_model(SVR,24)"
   ]
  },
  {
   "cell_type": "code",
   "execution_count": 184,
   "id": "ae8931b5",
   "metadata": {},
   "outputs": [
    {
     "name": "stdout",
     "output_type": "stream",
     "text": [
      "R Square : 0.8057588198511932\n",
      "Adj. R Square : 0.7998560843413709\n",
      "Mean Square Error : 1203242769.1567783\n",
      "Root Mean Square Error : 34687.78991456184\n",
      "Mean Absolute Percentage Error : 0.12309939361451848\n"
     ]
    }
   ],
   "source": [
    "different_model(LinearRegression,24)"
   ]
  },
  {
   "cell_type": "code",
   "execution_count": 185,
   "id": "74c623f6",
   "metadata": {},
   "outputs": [],
   "source": [
    "# we select our Linear Regression and random forest model for further study..............."
   ]
  }
 ],
 "metadata": {
  "kernelspec": {
   "display_name": "Python 3 (ipykernel)",
   "language": "python",
   "name": "python3"
  },
  "language_info": {
   "codemirror_mode": {
    "name": "ipython",
    "version": 3
   },
   "file_extension": ".py",
   "mimetype": "text/x-python",
   "name": "python",
   "nbconvert_exporter": "python",
   "pygments_lexer": "ipython3",
   "version": "3.9.12"
  }
 },
 "nbformat": 4,
 "nbformat_minor": 5
}
